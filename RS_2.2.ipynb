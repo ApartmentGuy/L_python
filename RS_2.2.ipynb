{
 "cells": [
  {
   "cell_type": "code",
   "execution_count": 12,
   "metadata": {
    "collapsed": false
   },
   "outputs": [],
   "source": [
    " joe = \"young\""
   ]
  },
  {
   "cell_type": "code",
   "execution_count": 14,
   "metadata": {
    "collapsed": false
   },
   "outputs": [
    {
     "data": {
      "text/plain": [
       "'young'"
      ]
     },
     "execution_count": 14,
     "metadata": {},
     "output_type": "execute_result"
    }
   ],
   "source": [
    "joe"
   ]
  },
  {
   "cell_type": "code",
   "execution_count": 16,
   "metadata": {
    "collapsed": false
   },
   "outputs": [
    {
     "data": {
      "text/plain": [
       "5"
      ]
     },
     "execution_count": 16,
     "metadata": {},
     "output_type": "execute_result"
    }
   ],
   "source": [
    "len(joe)"
   ]
  },
  {
   "cell_type": "code",
   "execution_count": 13,
   "metadata": {
    "collapsed": false
   },
   "outputs": [
    {
     "data": {
      "text/plain": [
       "'o'"
      ]
     },
     "execution_count": 13,
     "metadata": {},
     "output_type": "execute_result"
    }
   ],
   "source": [
    "joe[1]"
   ]
  },
  {
   "cell_type": "code",
   "execution_count": 25,
   "metadata": {
    "collapsed": true
   },
   "outputs": [],
   "source": [
    "def f (x):\n",
    "    return 3 ** (x)"
   ]
  },
  {
   "cell_type": "code",
   "execution_count": 18,
   "metadata": {
    "collapsed": true
   },
   "outputs": [],
   "source": [
    " x = 2"
   ]
  },
  {
   "cell_type": "code",
   "execution_count": 19,
   "metadata": {
    "collapsed": false
   },
   "outputs": [
    {
     "data": {
      "text/plain": [
       "4"
      ]
     },
     "execution_count": 19,
     "metadata": {},
     "output_type": "execute_result"
    }
   ],
   "source": [
    "f (x)"
   ]
  },
  {
   "cell_type": "code",
   "execution_count": 20,
   "metadata": {
    "collapsed": false
   },
   "outputs": [
    {
     "data": {
      "text/plain": [
       "8"
      ]
     },
     "execution_count": 20,
     "metadata": {},
     "output_type": "execute_result"
    }
   ],
   "source": [
    "f (4)"
   ]
  },
  {
   "cell_type": "code",
   "execution_count": 21,
   "metadata": {
    "collapsed": false
   },
   "outputs": [
    {
     "data": {
      "text/plain": [
       "10"
      ]
     },
     "execution_count": 21,
     "metadata": {},
     "output_type": "execute_result"
    }
   ],
   "source": [
    "f (5)"
   ]
  },
  {
   "cell_type": "code",
   "execution_count": 26,
   "metadata": {
    "collapsed": false
   },
   "outputs": [
    {
     "data": {
      "text/plain": [
       "243"
      ]
     },
     "execution_count": 26,
     "metadata": {},
     "output_type": "execute_result"
    }
   ],
   "source": [
    "f (5)"
   ]
  },
  {
   "cell_type": "code",
   "execution_count": 36,
   "metadata": {
    "collapsed": false
   },
   "outputs": [
    {
     "name": "stdout",
     "output_type": "stream",
     "text": [
      "10\n"
     ]
    }
   ],
   "source": [
    "def collatz (n):\n",
    "    if n % 2 == 0:\n",
    "        return n/2\n",
    "    else:\n",
    "        return 3 * n + 1\n",
    "print (collatz(3))"
   ]
  },
  {
   "cell_type": "code",
   "execution_count": 37,
   "metadata": {
    "collapsed": false
   },
   "outputs": [
    {
     "data": {
      "text/plain": [
       "False"
      ]
     },
     "execution_count": 37,
     "metadata": {},
     "output_type": "execute_result"
    }
   ],
   "source": [
    "42 % 2 == 2"
   ]
  },
  {
   "cell_type": "code",
   "execution_count": 40,
   "metadata": {
    "collapsed": false
   },
   "outputs": [
    {
     "data": {
      "text/plain": [
       "False"
      ]
     },
     "execution_count": 40,
     "metadata": {},
     "output_type": "execute_result"
    }
   ],
   "source": [
    "21 == 84/2 \n"
   ]
  },
  {
   "cell_type": "code",
   "execution_count": 39,
   "metadata": {
    "collapsed": false
   },
   "outputs": [
    {
     "data": {
      "text/plain": [
       "False"
      ]
     },
     "execution_count": 39,
     "metadata": {},
     "output_type": "execute_result"
    }
   ],
   "source": [
    "42 % 2 == 41 % 2."
   ]
  },
  {
   "cell_type": "code",
   "execution_count": 54,
   "metadata": {
    "collapsed": false
   },
   "outputs": [
    {
     "name": "stdout",
     "output_type": "stream",
     "text": [
      "10\n"
     ]
    }
   ],
   "source": [
    "def collatz( n ):\n",
    "    '''Takes a single number as argument and applies the Collatz to it'''\n",
    "    if n % 2 == 0:\n",
    "        return n/2\n",
    "    return 3*n + 1\n",
    "\n",
    "print (collatz(3))"
   ]
  },
  {
   "cell_type": "code",
   "execution_count": 56,
   "metadata": {
    "collapsed": true
   },
   "outputs": [],
   "source": [
    "def matchFirst ( s1 , s2 ):\n",
    "    \n",
    "    return s1[0] == s2[0]"
   ]
  },
  {
   "cell_type": "code",
   "execution_count": 57,
   "metadata": {
    "collapsed": true
   },
   "outputs": [],
   "source": [
    "def matchFirst ( s1 , s2 ):\n",
    "    '''Compare the first characters in s1 and s2\n",
    "    and return True if they are the same.\n",
    "    False if not'''\n",
    "\n",
    "    if s1 [0] == s2 [0]:\n",
    "        return True\n",
    "    else :\n",
    "        return False"
   ]
  },
  {
   "cell_type": "code",
   "execution_count": 58,
   "metadata": {
    "collapsed": true
   },
   "outputs": [],
   "source": [
    "odd = [2, 3, 5, 6]"
   ]
  },
  {
   "cell_type": "code",
   "execution_count": 60,
   "metadata": {
    "collapsed": false
   },
   "outputs": [],
   "source": [
    "yo = ['them', 'they', 'those']"
   ]
  },
  {
   "cell_type": "code",
   "execution_count": 61,
   "metadata": {
    "collapsed": false
   },
   "outputs": [
    {
     "data": {
      "text/plain": [
       "[2, 3, 5, 6, 'them', 'they', 'those']"
      ]
     },
     "execution_count": 61,
     "metadata": {},
     "output_type": "execute_result"
    }
   ],
   "source": [
    "odd + yo "
   ]
  },
  {
   "cell_type": "code",
   "execution_count": 62,
   "metadata": {
    "collapsed": true
   },
   "outputs": [],
   "source": [
    "oddyo = odd + yo"
   ]
  },
  {
   "cell_type": "code",
   "execution_count": 63,
   "metadata": {
    "collapsed": false
   },
   "outputs": [
    {
     "data": {
      "text/plain": [
       "[2, 3, 5, 6, 'them', 'they', 'those']"
      ]
     },
     "execution_count": 63,
     "metadata": {},
     "output_type": "execute_result"
    }
   ],
   "source": [
    "oddyo"
   ]
  },
  {
   "cell_type": "code",
   "execution_count": 67,
   "metadata": {
    "collapsed": false
   },
   "outputs": [
    {
     "name": "stdout",
     "output_type": "stream",
     "text": [
      "3 fizz\n",
      "5 buzz\n",
      "6 fizz\n",
      "9 fizz\n",
      "10 buzz\n",
      "12 fizz\n",
      "15 fizzbuzz\n",
      "18 fizz\n",
      "20 buzz\n",
      "21 fizz\n",
      "24 fizz\n",
      "25 buzz\n",
      "27 fizz\n",
      "30 fizzbuzz\n",
      "33 fizz\n",
      "35 buzz\n",
      "36 fizz\n",
      "39 fizz\n",
      "40 buzz\n",
      "42 fizz\n",
      "45 fizzbuzz\n",
      "48 fizz\n",
      "50 buzz\n",
      "51 fizz\n",
      "54 fizz\n",
      "55 buzz\n",
      "57 fizz\n",
      "60 fizzbuzz\n",
      "63 fizz\n",
      "65 buzz\n",
      "66 fizz\n",
      "69 fizz\n",
      "70 buzz\n",
      "72 fizz\n",
      "75 fizzbuzz\n",
      "78 fizz\n",
      "80 buzz\n",
      "81 fizz\n",
      "84 fizz\n",
      "85 buzz\n",
      "87 fizz\n",
      "90 fizzbuzz\n",
      "93 fizz\n",
      "95 buzz\n",
      "96 fizz\n",
      "99 fizz\n"
     ]
    }
   ],
   "source": [
    "for i in range(1,100):\n",
    "    if i % 15 == 0: print(str(i) + ' fizzbuzz')\n",
    "    elif i % 5 == 0: print(str(i) + ' buzz')\n",
    "    elif i % 3 == 0: print(str(i) + ' fizz')\n"
   ]
  },
  {
   "cell_type": "code",
   "execution_count": 74,
   "metadata": {
    "collapsed": false
   },
   "outputs": [
    {
     "name": "stdout",
     "output_type": "stream",
     "text": [
      "{'x': 1}\n"
     ]
    }
   ],
   "source": [
    "def foo(x):\n",
    "     print locals()\n",
    "foo(1)"
   ]
  },
  {
   "cell_type": "code",
   "execution_count": 79,
   "metadata": {
    "collapsed": true
   },
   "outputs": [],
   "source": [
    "import numpy as np"
   ]
  },
  {
   "cell_type": "code",
   "execution_count": 83,
   "metadata": {
    "collapsed": false
   },
   "outputs": [
    {
     "data": {
      "text/plain": [
       "<function dir>"
      ]
     },
     "execution_count": 83,
     "metadata": {},
     "output_type": "execute_result"
    }
   ],
   "source": [
    "dir"
   ]
  },
  {
   "cell_type": "code",
   "execution_count": 7,
   "metadata": {
    "collapsed": false
   },
   "outputs": [],
   "source": [
    "def add(x, y):\n",
    "    return x + y\n",
    "def sub(x, y):\n",
    "    return x - y\n",
    "def apply(func, x, y):\n",
    "    return func(x, y)\n",
    "\n"
   ]
  },
  {
   "cell_type": "code",
   "execution_count": 8,
   "metadata": {
    "collapsed": false
   },
   "outputs": [
    {
     "data": {
      "text/plain": [
       "3"
      ]
     },
     "execution_count": 8,
     "metadata": {},
     "output_type": "execute_result"
    }
   ],
   "source": [
    "apply(add, 2, 1)"
   ]
  },
  {
   "cell_type": "code",
   "execution_count": 10,
   "metadata": {
    "collapsed": false
   },
   "outputs": [
    {
     "data": {
      "text/plain": [
       "1"
      ]
     },
     "execution_count": 10,
     "metadata": {},
     "output_type": "execute_result"
    }
   ],
   "source": [
    "apply(sub, 2, 1)"
   ]
  },
  {
   "cell_type": "code",
   "execution_count": 11,
   "metadata": {
    "collapsed": true
   },
   "outputs": [],
   "source": [
    "import pandas as pd"
   ]
  },
  {
   "cell_type": "code",
   "execution_count": 13,
   "metadata": {
    "collapsed": false
   },
   "outputs": [],
   "source": [
    "df = pd.read_csv(\"ZILL-Z92101_MSP.csv\")"
   ]
  },
  {
   "cell_type": "code",
   "execution_count": 16,
   "metadata": {
    "collapsed": false
   },
   "outputs": [
    {
     "data": {
      "text/html": [
       "<div>\n",
       "<table border=\"1\" class=\"dataframe\">\n",
       "  <thead>\n",
       "    <tr style=\"text-align: right;\">\n",
       "      <th></th>\n",
       "      <th>Date</th>\n",
       "      <th>Value</th>\n",
       "    </tr>\n",
       "  </thead>\n",
       "  <tbody>\n",
       "    <tr>\n",
       "      <th>0</th>\n",
       "      <td>2016-02-29</td>\n",
       "      <td>473500</td>\n",
       "    </tr>\n",
       "    <tr>\n",
       "      <th>1</th>\n",
       "      <td>2016-01-31</td>\n",
       "      <td>508250</td>\n",
       "    </tr>\n",
       "    <tr>\n",
       "      <th>2</th>\n",
       "      <td>2015-12-31</td>\n",
       "      <td>503500</td>\n",
       "    </tr>\n",
       "    <tr>\n",
       "      <th>3</th>\n",
       "      <td>2015-11-30</td>\n",
       "      <td>474250</td>\n",
       "    </tr>\n",
       "    <tr>\n",
       "      <th>4</th>\n",
       "      <td>2015-10-31</td>\n",
       "      <td>476750</td>\n",
       "    </tr>\n",
       "  </tbody>\n",
       "</table>\n",
       "</div>"
      ],
      "text/plain": [
       "         Date   Value\n",
       "0  2016-02-29  473500\n",
       "1  2016-01-31  508250\n",
       "2  2015-12-31  503500\n",
       "3  2015-11-30  474250\n",
       "4  2015-10-31  476750"
      ]
     },
     "execution_count": 16,
     "metadata": {},
     "output_type": "execute_result"
    }
   ],
   "source": [
    "df.head()"
   ]
  },
  {
   "cell_type": "code",
   "execution_count": 18,
   "metadata": {
    "collapsed": false
   },
   "outputs": [
    {
     "data": {
      "text/html": [
       "<div>\n",
       "<table border=\"1\" class=\"dataframe\">\n",
       "  <thead>\n",
       "    <tr style=\"text-align: right;\">\n",
       "      <th></th>\n",
       "      <th>Value</th>\n",
       "    </tr>\n",
       "  </thead>\n",
       "  <tbody>\n",
       "    <tr>\n",
       "      <th>count</th>\n",
       "      <td>207.000000</td>\n",
       "    </tr>\n",
       "    <tr>\n",
       "      <th>mean</th>\n",
       "      <td>395615.817430</td>\n",
       "    </tr>\n",
       "    <tr>\n",
       "      <th>std</th>\n",
       "      <td>86734.165766</td>\n",
       "    </tr>\n",
       "    <tr>\n",
       "      <th>min</th>\n",
       "      <td>159461.538500</td>\n",
       "    </tr>\n",
       "    <tr>\n",
       "      <th>25%</th>\n",
       "      <td>351125.000000</td>\n",
       "    </tr>\n",
       "    <tr>\n",
       "      <th>50%</th>\n",
       "      <td>415000.000000</td>\n",
       "    </tr>\n",
       "    <tr>\n",
       "      <th>75%</th>\n",
       "      <td>457587.500000</td>\n",
       "    </tr>\n",
       "    <tr>\n",
       "      <th>max</th>\n",
       "      <td>553750.000000</td>\n",
       "    </tr>\n",
       "  </tbody>\n",
       "</table>\n",
       "</div>"
      ],
      "text/plain": [
       "               Value\n",
       "count     207.000000\n",
       "mean   395615.817430\n",
       "std     86734.165766\n",
       "min    159461.538500\n",
       "25%    351125.000000\n",
       "50%    415000.000000\n",
       "75%    457587.500000\n",
       "max    553750.000000"
      ]
     },
     "execution_count": 18,
     "metadata": {},
     "output_type": "execute_result"
    }
   ],
   "source": [
    "df.describe()"
   ]
  },
  {
   "cell_type": "code",
   "execution_count": 26,
   "metadata": {
    "collapsed": false
   },
   "outputs": [],
   "source": [
    "import matplotlib\n",
    "\n"
   ]
  },
  {
   "cell_type": "markdown",
   "metadata": {},
   "source": [
    "# Args & Kwargs\n",
    "\n",
    "## The fundamentals of understanding arguments\n",
    "s\n"
   ]
  },
  {
   "cell_type": "code",
   "execution_count": 48,
   "metadata": {
    "collapsed": false
   },
   "outputs": [
    {
     "name": "stdout",
     "output_type": "stream",
     "text": [
      "first normal arg: yasoob\n",
      "another arg through *argv : python\n",
      "another arg through *argv : eggs\n",
      "another arg through *argv : test\n"
     ]
    }
   ],
   "source": [
    "# Example Args \n",
    "\n",
    "def test_var_args(f_arg, *argv):\n",
    "    print \"first normal arg:\", f_arg\n",
    "    for arg in argv:\n",
    "        print \"another arg through *argv :\", arg\n",
    "\n",
    "test_var_args('yasoob','python','eggs','test')"
   ]
  },
  {
   "cell_type": "code",
   "execution_count": 40,
   "metadata": {
    "collapsed": false
   },
   "outputs": [],
   "source": [
    "# My understanding of args\n",
    "def this_is_code(f_nippe, *man):\n",
    "        print \"This is nippe:\", f_nippe\n",
    "        for nippe in man:\n",
    "            print \"Another one nippe *man :\", nippe\n",
    "            \n",
    "            this_is_code(\"dick\", \"Who\", \"nigga\", \"Jigga\")"
   ]
  },
  {
   "cell_type": "code",
   "execution_count": 38,
   "metadata": {
    "collapsed": false
   },
   "outputs": [
    {
     "name": "stdout",
     "output_type": "stream",
     "text": [
      "This is nippe: dick\n",
      "Another one nippe *man : Who\n",
      "Another one nippe *man : nigga\n",
      "Another one nippe *man : Jigga\n"
     ]
    }
   ],
   "source": [
    "this_is_code(\"dick\", \"Who\", \"nigga\", \"Jigga\")"
   ]
  },
  {
   "cell_type": "code",
   "execution_count": 47,
   "metadata": {
    "collapsed": false
   },
   "outputs": [
    {
     "name": "stdout",
     "output_type": "stream",
     "text": [
      "name == yasoob\n"
     ]
    }
   ],
   "source": [
    "#Kwargs example\n",
    "## Allow you to pass keywords\n",
    "#Usage of **kwargs\n",
    "####**kwargs allows you to pass keyworded variable length of arguments to a function. \n",
    "####You should use **kwargs if you want to handle named arguments in a function.\n",
    "####Here is an example to get you going with it:\n",
    "\n",
    "def greet_me(**kwargs):\n",
    "    if kwargs is not None:\n",
    "        for key, value in kwargs.iteritems():\n",
    "            print \"%s == %s\" %(key,value)\n",
    "            \n",
    "greet_me(name=\"yasoob\")"
   ]
  },
  {
   "cell_type": "code",
   "execution_count": 51,
   "metadata": {
    "collapsed": false
   },
   "outputs": [
    {
     "name": "stdout",
     "output_type": "stream",
     "text": [
      "over == there\n"
     ]
    }
   ],
   "source": [
    "# My understanding of Kwargs\n",
    "\n",
    "def where_the_hoes_at(**thirst):\n",
    "    if thirst is not None:\n",
    "        for key, value in thirst.iteritems():\n",
    "            print \"%s == %s\" %(key,value)\n",
    "where_the_hoes_at(over=\"there\")            "
   ]
  },
  {
   "cell_type": "code",
   "execution_count": 53,
   "metadata": {
    "collapsed": false
   },
   "outputs": [],
   "source": [
    "def test_args_kwargs(arg1, arg2, arg3):\n",
    "    print \"arg1:\", arg1\n",
    "    print \"arg2:\", arg2\n",
    "    print \"arg3:\", arg3\n"
   ]
  },
  {
   "cell_type": "code",
   "execution_count": 54,
   "metadata": {
    "collapsed": false
   },
   "outputs": [
    {
     "name": "stdout",
     "output_type": "stream",
     "text": [
      "arg1: two\n",
      "arg2: 3\n",
      "arg3: 5\n"
     ]
    }
   ],
   "source": [
    "# first with *args\n",
    "args = (\"two\", 3,5)\n",
    "test_args_kwargs(*args)"
   ]
  },
  {
   "cell_type": "code",
   "execution_count": 61,
   "metadata": {
    "collapsed": false
   },
   "outputs": [
    {
     "name": "stdout",
     "output_type": "stream",
     "text": [
      "arg1: damn\n",
      "arg2: 2\n",
      "arg3: 4\n"
     ]
    }
   ],
   "source": [
    "bases = (\"damn\", 2,4)\n",
    "test_args_kwargs(*bases)"
   ]
  },
  {
   "cell_type": "markdown",
   "metadata": {},
   "source": [
    "# order of using args & kwargs\n",
    "\n",
    "### some_func(fargs,*args,**kwargs)"
   ]
  },
  {
   "cell_type": "code",
   "execution_count": null,
   "metadata": {
    "collapsed": true
   },
   "outputs": [],
   "source": []
  }
 ],
 "metadata": {
  "kernelspec": {
   "display_name": "Python 2",
   "language": "python",
   "name": "python2"
  },
  "language_info": {
   "codemirror_mode": {
    "name": "ipython",
    "version": 2
   },
   "file_extension": ".py",
   "mimetype": "text/x-python",
   "name": "python",
   "nbconvert_exporter": "python",
   "pygments_lexer": "ipython2",
   "version": "2.7.11"
  }
 },
 "nbformat": 4,
 "nbformat_minor": 0
}
